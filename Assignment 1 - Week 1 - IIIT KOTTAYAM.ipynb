{
 "cells": [
  {
   "cell_type": "markdown",
   "id": "0a9f38c8",
   "metadata": {},
   "source": [
    "##                                                   Angel Susan Vino"
   ]
  },
  {
   "cell_type": "markdown",
   "id": "e31278c0",
   "metadata": {},
   "source": [
    "### Question 1"
   ]
  },
  {
   "cell_type": "markdown",
   "id": "aebef68a",
   "metadata": {},
   "source": [
    "Write a program to sum up all items in a list\n",
    "\n",
    "\n",
    "Sample I/O:\n",
    "\n",
    "\n",
    "Input:10 12 20 54\n",
    "\n",
    "\n",
    "Output:96"
   ]
  },
  {
   "cell_type": "code",
   "execution_count": 1,
   "id": "9f5bf995",
   "metadata": {},
   "outputs": [
    {
     "name": "stdout",
     "output_type": "stream",
     "text": [
      "96\n"
     ]
    }
   ],
   "source": [
    "a=[10,12,20,54]\n",
    "print(sum(a))"
   ]
  },
  {
   "cell_type": "markdown",
   "id": "3848df7a",
   "metadata": {},
   "source": [
    "### Question  2"
   ]
  },
  {
   "cell_type": "markdown",
   "id": "cd7fae41",
   "metadata": {},
   "source": [
    "Consider integer inputs from user and print the following\n",
    "\n",
    "a) Number of positive numbers\n",
    "\n",
    "\n",
    "b) Number of negative numbers\n",
    "\n",
    "\n",
    "c) Number of zeros\n",
    "\n",
    "\n",
    "Sample I/O\n",
    "\n",
    "\n",
    "Input: 32 0 -3 2 5 -9635 0 3569\n",
    "    \n",
    "    \n",
    "Output: Number of positive numbers:4\n",
    "        \n",
    "        \n",
    "Number of negative numbers:2\n",
    "    \n",
    "    \n",
    "Number of zeros:2"
   ]
  },
  {
   "cell_type": "code",
   "execution_count": 2,
   "id": "9475f622",
   "metadata": {},
   "outputs": [
    {
     "name": "stdout",
     "output_type": "stream",
     "text": [
      "Enter integers separated by spaces: 32 0 -3 2 5 -9635 0 3569\n"
     ]
    }
   ],
   "source": [
    "numbers = input(\"Enter integers separated by spaces: \").split()"
   ]
  },
  {
   "cell_type": "code",
   "execution_count": 3,
   "id": "6e6f1605",
   "metadata": {},
   "outputs": [],
   "source": [
    "positive_count = 0\n",
    "negative_count = 0\n",
    "zero_count = 0"
   ]
  },
  {
   "cell_type": "code",
   "execution_count": 4,
   "id": "61d37ae6",
   "metadata": {},
   "outputs": [],
   "source": [
    "for num in numbers:\n",
    "    num = int(num)\n",
    "    if num > 0:\n",
    "        positive_count += 1\n",
    "    elif num < 0:\n",
    "        negative_count += 1\n",
    "    else:\n",
    "        zero_count += 1"
   ]
  },
  {
   "cell_type": "code",
   "execution_count": 5,
   "id": "13a2d651",
   "metadata": {},
   "outputs": [
    {
     "name": "stdout",
     "output_type": "stream",
     "text": [
      "Number of positive numbers: 4\n",
      "Number of negative numbers: 2\n",
      "Number of zeros: 2\n"
     ]
    }
   ],
   "source": [
    "print(\"Number of positive numbers:\", positive_count)\n",
    "print(\"Number of negative numbers:\", negative_count)\n",
    "print(\"Number of zeros:\", zero_count)"
   ]
  },
  {
   "cell_type": "markdown",
   "id": "813bae83",
   "metadata": {},
   "source": [
    "### Question 3"
   ]
  },
  {
   "cell_type": "markdown",
   "id": "5f60e56e",
   "metadata": {},
   "source": [
    "Read a list and segregate as follows\n",
    "\n",
    "a) create separate lists of strings and numbers\n",
    "\n",
    "b) Sort the number list from lowest to highest\n",
    "\n",
    "c) Sort the strings list in ascending order\n",
    "\n",
    "Sample I/O\n",
    "\n",
    "\n",
    "Input: hj -2 klm 0 96\n",
    "\n",
    "Output: a) hj klm \n",
    "-2 0 96\n",
    "\n",
    "\n",
    "b)-2 0 96\n",
    "\n",
    "c) hj klm"
   ]
  },
  {
   "cell_type": "code",
   "execution_count": 6,
   "id": "a9165d8d",
   "metadata": {},
   "outputs": [],
   "source": [
    "list = ['hj','-2','klm','0','96']"
   ]
  },
  {
   "cell_type": "code",
   "execution_count": 7,
   "id": "727df168",
   "metadata": {},
   "outputs": [],
   "source": [
    "string_list = []\n",
    "number_list = []"
   ]
  },
  {
   "cell_type": "code",
   "execution_count": 8,
   "id": "23f0e96e",
   "metadata": {},
   "outputs": [],
   "source": [
    "for element in list:\n",
    "    # Checking if the element is a number\n",
    "    try:\n",
    "        number = int(element)\n",
    "        number_list.append(number)\n",
    "    except ValueError:\n",
    "        string_list.append(element)"
   ]
  },
  {
   "cell_type": "code",
   "execution_count": 9,
   "id": "3acef009",
   "metadata": {},
   "outputs": [
    {
     "name": "stdout",
     "output_type": "stream",
     "text": [
      "[-2, 0, 96]\n",
      "['hj', 'klm']\n"
     ]
    }
   ],
   "source": [
    "print(number_list)\n",
    "print(string_list)"
   ]
  },
  {
   "cell_type": "code",
   "execution_count": 10,
   "id": "3e1937e3",
   "metadata": {},
   "outputs": [],
   "source": [
    "number_list.sort()\n",
    "string_list.sort()"
   ]
  },
  {
   "cell_type": "code",
   "execution_count": 11,
   "id": "870a8033",
   "metadata": {},
   "outputs": [
    {
     "name": "stdout",
     "output_type": "stream",
     "text": [
      "[-2, 0, 96]\n"
     ]
    }
   ],
   "source": [
    "print(number_list)"
   ]
  },
  {
   "cell_type": "code",
   "execution_count": 12,
   "id": "bf9341b4",
   "metadata": {},
   "outputs": [
    {
     "name": "stdout",
     "output_type": "stream",
     "text": [
      "['hj', 'klm']\n"
     ]
    }
   ],
   "source": [
    "print(string_list)"
   ]
  },
  {
   "cell_type": "markdown",
   "id": "1f3e827e",
   "metadata": {},
   "source": [
    "### Question 4"
   ]
  },
  {
   "cell_type": "markdown",
   "id": "fac150e8",
   "metadata": {},
   "source": [
    "Consider the elements of the list\n",
    "\n",
    "a) Get the frequency of each element\n",
    "\n",
    "b) Remove the duplicates from the list and return the resultant list\n",
    "\n",
    "Sample I/O\n",
    "\n",
    "Input:10 20 30\n",
    "\n",
    "Output: a) 10 1\n",
    "\n",
    "20 1\n",
    "\n",
    "30 1\n",
    "\n",
    "b) No duplicates exist\n",
    "\n",
    "10 20 30\n",
    "\n",
    "\n",
    "Input: 23 5 6 23\n",
    "\n",
    "Output: a) 23 2\n",
    "\n",
    "\n",
    "5 1\n",
    "\n",
    "6 1\n",
    "\n",
    "b) 23 5 6"
   ]
  },
  {
   "cell_type": "code",
   "execution_count": 1,
   "id": "08f1b641",
   "metadata": {},
   "outputs": [
    {
     "name": "stdout",
     "output_type": "stream",
     "text": [
      "Enter a list of elements: 10 20 30\n"
     ]
    }
   ],
   "source": [
    "elements = input(\"Enter a list of elements: \").split()"
   ]
  },
  {
   "cell_type": "code",
   "execution_count": 2,
   "id": "3b72ce22",
   "metadata": {},
   "outputs": [
    {
     "name": "stdout",
     "output_type": "stream",
     "text": [
      "Frequency of each element:\n",
      "10 1\n",
      "20 1\n",
      "30 1\n"
     ]
    }
   ],
   "source": [
    "# Calculate the frequency of each element\n",
    "frequency = {}\n",
    "for element in elements:\n",
    "    if element not in frequency:\n",
    "        frequency[element] = 0\n",
    "    frequency[element] += 1\n",
    "\n",
    "# Print the frequency of each element\n",
    "print(\"Frequency of each element:\")\n",
    "for element, count in frequency.items():\n",
    "    print(element, count)"
   ]
  },
  {
   "cell_type": "code",
   "execution_count": 3,
   "id": "02eaabb2",
   "metadata": {},
   "outputs": [
    {
     "name": "stdout",
     "output_type": "stream",
     "text": [
      "No duplicates exist\n"
     ]
    }
   ],
   "source": [
    "# Remove duplicates from the list\n",
    "resultant_list = []\n",
    "for element in elements:\n",
    "    if element not in resultant_list:\n",
    "        resultant_list.append(element)\n",
    "\n",
    "# Check if duplicates exist and print the resultant list\n",
    "if len(resultant_list) == len(elements):\n",
    "    print(\"No duplicates exist\")\n",
    "else:\n",
    "    print(\"Resultant list (after removing duplicates):\")\n",
    "    print(' '.join(resultant_list))"
   ]
  },
  {
   "cell_type": "code",
   "execution_count": 4,
   "id": "c43b6a45",
   "metadata": {},
   "outputs": [
    {
     "name": "stdout",
     "output_type": "stream",
     "text": [
      "Enter a list of elements: 23 5 6 23\n"
     ]
    }
   ],
   "source": [
    "elements = input(\"Enter a list of elements: \").split()"
   ]
  },
  {
   "cell_type": "code",
   "execution_count": 6,
   "id": "0fc9d49d",
   "metadata": {},
   "outputs": [
    {
     "name": "stdout",
     "output_type": "stream",
     "text": [
      "Frequency of each element:\n",
      "23 2\n",
      "5 1\n",
      "6 1\n"
     ]
    }
   ],
   "source": [
    "# Calculate the frequency of each element\n",
    "frequency = {}\n",
    "for element in elements:\n",
    "    if element not in frequency:\n",
    "        frequency[element] = 0\n",
    "    frequency[element] += 1\n",
    "\n",
    "# Print the frequency of each element\n",
    "print(\"Frequency of each element:\")\n",
    "for element, count in frequency.items():\n",
    "    print(element, count)"
   ]
  },
  {
   "cell_type": "code",
   "execution_count": 7,
   "id": "4e28403a",
   "metadata": {},
   "outputs": [
    {
     "name": "stdout",
     "output_type": "stream",
     "text": [
      "Resultant list (after removing duplicates):\n",
      "23 5 6\n"
     ]
    }
   ],
   "source": [
    "# Remove duplicates from the list\n",
    "resultant_list = []\n",
    "for element in elements:\n",
    "    if element not in resultant_list:\n",
    "        resultant_list.append(element)\n",
    "\n",
    "# Check if duplicates exist and print the resultant list\n",
    "if len(resultant_list) == len(elements):\n",
    "    print(\"No duplicates exist\")\n",
    "else:\n",
    "    print(\"Resultant list (after removing duplicates):\")\n",
    "    print(' '.join(resultant_list))"
   ]
  },
  {
   "cell_type": "markdown",
   "id": "7d279e8a",
   "metadata": {},
   "source": [
    "### Question 5"
   ]
  },
  {
   "cell_type": "markdown",
   "id": "a1b4ba1d",
   "metadata": {},
   "source": [
    "Consider the given two lists, list1 and list2. Iterate both lists simultaneously such that list1 should\n",
    "display in original whereas list2 in reverse order\n",
    "\n",
    "Sample I/O\n",
    "\n",
    "Input: list1 5 3 23\n",
    "\n",
    "list2 8 6\n",
    "\n",
    "Output: 5 3 23 6 8"
   ]
  },
  {
   "cell_type": "code",
   "execution_count": 1,
   "id": "943b08d7",
   "metadata": {},
   "outputs": [
    {
     "name": "stdout",
     "output_type": "stream",
     "text": [
      "Enter elements of list1: 5 3 23\n",
      "Enter elements of list2: 8 6 \n"
     ]
    }
   ],
   "source": [
    "list1 = input(\"Enter elements of list1: \").split()\n",
    "list2 = input(\"Enter elements of list2: \").split()"
   ]
  },
  {
   "cell_type": "code",
   "execution_count": 2,
   "id": "a3269085",
   "metadata": {},
   "outputs": [],
   "source": [
    "list2.sort()"
   ]
  },
  {
   "cell_type": "code",
   "execution_count": 3,
   "id": "c72caf02",
   "metadata": {},
   "outputs": [
    {
     "name": "stdout",
     "output_type": "stream",
     "text": [
      "['6', '8']\n"
     ]
    }
   ],
   "source": [
    "print(list2)"
   ]
  },
  {
   "cell_type": "code",
   "execution_count": 4,
   "id": "890eb2fe",
   "metadata": {},
   "outputs": [
    {
     "name": "stdout",
     "output_type": "stream",
     "text": [
      "['5', '3', '23', '6', '8']\n"
     ]
    }
   ],
   "source": [
    "list3 = list1 +list2\n",
    "print(list3)"
   ]
  },
  {
   "cell_type": "markdown",
   "id": "39d8352b",
   "metadata": {},
   "source": [
    "### Question 6"
   ]
  },
  {
   "cell_type": "markdown",
   "id": "2bf843f7",
   "metadata": {},
   "source": [
    "Consider the given list and round the elements of it (say list1).\n",
    "\n",
    "a) Return the maximum and minimum number,\n",
    "\n",
    "b) Multiply the (list1) by 2. Print the unique numbers in ascending order.\n",
    "\n",
    "Test Cases\n",
    "\n",
    "Input:0 12.0 5.6 8.9 13.3\n",
    "\n",
    "Output: Maximum 13\n",
    "\n",
    "Minimum 0\n",
    "\n",
    "List in ascending order: 0 12 18 24 26"
   ]
  },
  {
   "cell_type": "code",
   "execution_count": 1,
   "id": "b59ff524",
   "metadata": {},
   "outputs": [
    {
     "name": "stdout",
     "output_type": "stream",
     "text": [
      "Enter elements of the list: 0 12.0 5.6 8.9 13.3\n"
     ]
    }
   ],
   "source": [
    "list_input = input(\"Enter elements of the list: \").split()"
   ]
  },
  {
   "cell_type": "code",
   "execution_count": 2,
   "id": "3771a080",
   "metadata": {},
   "outputs": [],
   "source": [
    "rounded_list = [round(float(num)) for num in list_input]"
   ]
  },
  {
   "cell_type": "code",
   "execution_count": 4,
   "id": "e41be89b",
   "metadata": {},
   "outputs": [
    {
     "name": "stdout",
     "output_type": "stream",
     "text": [
      "[0, 12, 6, 9, 13]\n"
     ]
    }
   ],
   "source": [
    "print(rounded_list)"
   ]
  },
  {
   "cell_type": "code",
   "execution_count": 5,
   "id": "8d60ec32",
   "metadata": {},
   "outputs": [
    {
     "data": {
      "text/plain": [
       "13"
      ]
     },
     "execution_count": 5,
     "metadata": {},
     "output_type": "execute_result"
    }
   ],
   "source": [
    "max(rounded_list)"
   ]
  },
  {
   "cell_type": "code",
   "execution_count": 6,
   "id": "cea6e25a",
   "metadata": {},
   "outputs": [
    {
     "data": {
      "text/plain": [
       "0"
      ]
     },
     "execution_count": 6,
     "metadata": {},
     "output_type": "execute_result"
    }
   ],
   "source": [
    "min(rounded_list)"
   ]
  },
  {
   "cell_type": "code",
   "execution_count": 13,
   "id": "190e1935",
   "metadata": {},
   "outputs": [],
   "source": [
    "multiplied_list = [float(num) * 2 for num in rounded_list]"
   ]
  },
  {
   "cell_type": "code",
   "execution_count": 14,
   "id": "b43c88b1",
   "metadata": {},
   "outputs": [
    {
     "name": "stdout",
     "output_type": "stream",
     "text": [
      "[0.0, 24.0, 12.0, 18.0, 26.0]\n"
     ]
    }
   ],
   "source": [
    "print(multiplied_list)"
   ]
  },
  {
   "cell_type": "code",
   "execution_count": 21,
   "id": "697f620f",
   "metadata": {},
   "outputs": [],
   "source": [
    "multiplied_list.sort()"
   ]
  },
  {
   "cell_type": "code",
   "execution_count": 22,
   "id": "6efb0f16",
   "metadata": {},
   "outputs": [
    {
     "name": "stdout",
     "output_type": "stream",
     "text": [
      "[0.0, 12.0, 18.0, 24.0, 26.0]\n"
     ]
    }
   ],
   "source": [
    "print(multiplied_list)"
   ]
  }
 ],
 "metadata": {
  "kernelspec": {
   "display_name": "Python 3 (ipykernel)",
   "language": "python",
   "name": "python3"
  },
  "language_info": {
   "codemirror_mode": {
    "name": "ipython",
    "version": 3
   },
   "file_extension": ".py",
   "mimetype": "text/x-python",
   "name": "python",
   "nbconvert_exporter": "python",
   "pygments_lexer": "ipython3",
   "version": "3.10.9"
  }
 },
 "nbformat": 4,
 "nbformat_minor": 5
}
